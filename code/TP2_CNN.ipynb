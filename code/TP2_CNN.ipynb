{
  "nbformat": 4,
  "nbformat_minor": 0,
  "metadata": {
    "colab": {
      "provenance": [],
      "gpuType": "T4"
    },
    "kernelspec": {
      "name": "python3",
      "display_name": "Python 3"
    },
    "language_info": {
      "name": "python"
    },
    "accelerator": "GPU"
  },
  "cells": [
    {
      "cell_type": "code",
      "execution_count": null,
      "metadata": {
        "id": "TJvqCeJ80z2n"
      },
      "outputs": [],
      "source": [
        "import torch\n",
        "import torchvision\n",
        "import torchvision.transforms as transforms\n",
        "import torch.nn.functional as F\n",
        "from torch.utils.data import DataLoader\n",
        "from matplotlib import pyplot as plt\n",
        "import numpy as np\n",
        "import time\n"
      ]
    },
    {
      "cell_type": "code",
      "source": [
        "# %% dataset : CIFAR10 (télécharge les images dans le dossier data)\n",
        "\n",
        "transform = transforms.Compose(\n",
        "    [transforms.ToTensor(),\n",
        "     transforms.Normalize((0.5, 0.5, 0.5), (0.5, 0.5, 0.5))])\n",
        "\n",
        "\n",
        "train_data = torchvision.datasets.CIFAR10(root='./data', train=True, download=True, transform=transform)\n",
        "test_data = torchvision.datasets.CIFAR10(root='./data', train=False, download=True, transform=transform)\n",
        "\n",
        "# Split train set into a train and validation sets\n",
        "train_size = int(0.75*len(train_data))\n",
        "valid_size = len(train_data) - train_size\n",
        "torch.manual_seed(0)\n",
        "train_data, valid_data = torch.utils.data.random_split(train_data, [train_size, valid_size])\n",
        "\n",
        "# nom des classes\n",
        "classes = ('plane', 'car', 'bird', 'cat',\n",
        "           'deer', 'dog', 'frog', 'horse', 'ship', 'truck')\n"
      ],
      "metadata": {
        "id": "FRW6VXDJ2LPA"
      },
      "execution_count": null,
      "outputs": []
    },
    {
      "cell_type": "code",
      "source": [
        "# %% comprendre les données\n",
        "\n",
        "#------------------- A FAIRE : afficher la taille des 3 datasets\n",
        "#-------------------\n",
        "\n",
        "def print_image(image, title=\"classe de l'image ?\"):\n",
        "    image = image / 2 + 0.5     # unnormalize\n",
        "    npimg = image.numpy()\n",
        "    plt.figure()\n",
        "    plt.imshow(np.transpose(npimg, (1, 2, 0)))\n",
        "    plt.title(title)\n",
        "    plt.show()\n",
        "\n",
        "\n",
        "# -- visualiser la 1ère image de train_data\n",
        "image, label = train_data[0]\n",
        "print_image(image)\n",
        "print(\"=== image est de type :\", type(image))\n",
        "print(\"=== taille du tenseur :\", image.shape)\n",
        "print(\"=== label\", label)\n",
        "\n",
        "\n",
        "#------------------- A FAIRE : visualiser les 5 premières images AVEC le nom de sa classe\n",
        "#-------------------\n"
      ],
      "metadata": {
        "id": "LYxVemQL2V6W"
      },
      "execution_count": null,
      "outputs": []
    },
    {
      "cell_type": "code",
      "source": [
        "# %% modèle CNN\n",
        "import torch.nn as nn\n",
        "class Net(torch.nn.Module):\n",
        "    def __init__(self):\n",
        "        super().__init__()\n",
        "        self.conv1 = nn.Conv2d(3, 6, 5)\n",
        "        self.pool = nn.MaxPool2d(2, 2)\n",
        "        self.conv2 = nn.Conv2d(6, 16, 5)\n",
        "        self.fc1 = nn.Linear(16 * 5 * 5, 120)\n",
        "        self.fc2 = nn.Linear(120, 84)\n",
        "        self.fc3 = nn.Linear(84, 10)\n",
        "\n",
        "    def forward(self, x):\n",
        "        x = self.pool(F.relu(self.conv1(x)))\n",
        "        x = self.pool(F.relu(self.conv2(x)))\n",
        "        x = torch.flatten(x, 1) # flatten all dimensions except batch\n",
        "        x = F.relu(self.fc1(x))\n",
        "        x = F.relu(self.fc2(x))\n",
        "        x = self.fc3(x)\n",
        "        return x\n",
        "\n",
        "model = Net()\n",
        "\n",
        "#------------- A FAIRE: comprendre max_pool2d\n",
        "#-------------"
      ],
      "metadata": {
        "id": "QDWjzPUN2beo"
      },
      "execution_count": null,
      "outputs": []
    },
    {
      "cell_type": "code",
      "source": [
        "# %% data loaders\n",
        "BATCH_SIZE = 32\n",
        "train_loader = DataLoader(train_data, batch_size=BATCH_SIZE, shuffle=True)\n",
        "valid_loader = DataLoader(valid_data, batch_size=len(valid_data))\n",
        "test_loader = DataLoader(valid_data, batch_size=len(test_data))\n"
      ],
      "metadata": {
        "id": "aPaubd3g3u2B"
      },
      "execution_count": null,
      "outputs": []
    },
    {
      "cell_type": "code",
      "source": [
        "# %% entrainement\n",
        "\n",
        "# hyperparamètres\n",
        "#------------- A MODIFIER\n",
        "LEARNING_RATE = 1e-3 / 2\n",
        "EPOCHS = 20\n",
        "USE_CUDA = True\n",
        "#-------------\n",
        "\n",
        "if USE_CUDA and torch.cuda.is_available():\n",
        "    device = torch.device(\"cuda\")\n",
        "    print(\"=== DEVICE = CUDA\")\n",
        "else:\n",
        "    device = torch.device(\"cpu\")\n",
        "    print(\"=== DEVICE = CPU\")\n",
        "model = model.to(device)\n",
        "\n",
        "\n",
        "optimizer = torch.optim.SGD(model.parameters(), lr=LEARNING_RATE, momentum=0.9) # optimizer = torch.optim.Adam(model.parameters(), lr=LEARNING_RATE)\n",
        "train_losses, valid_losses = [], [] # for each epoch\n",
        "for epoch in range(EPOCHS):\n",
        "    tic = time.time()\n",
        "    # entrainement\n",
        "    losses = []\n",
        "    for images, labels in train_loader:\n",
        "        images, labels = images.to(device), labels.to(device)\n",
        "        # evaluer fonction cout\n",
        "        labels_predict = model(images)\n",
        "        loss = F.cross_entropy(labels_predict, labels)\n",
        "        losses.append(loss.item())\n",
        "\n",
        "        # mise à jour paramètre\n",
        "        optimizer.zero_grad()\n",
        "        loss.backward()\n",
        "        optimizer.step()\n",
        "    train_loss = np.mean(losses)\n",
        "    train_losses.append(train_loss)\n",
        "\n",
        "    # validation\n",
        "    with torch.no_grad():\n",
        "        for images, labels in valid_loader:\n",
        "            images, labels = images.to(device), labels.to(device)\n",
        "            labels_predict = model(images)\n",
        "            valid_loss = F.cross_entropy(labels_predict, labels).item()\n",
        "            valid_losses.append(valid_loss)\n",
        "\n",
        "    # afficher progression\n",
        "    elapsed_time = time.time () - tic\n",
        "    print('epoch %i train %.2e  valid %.2e elapsed_time %.2e' % (epoch, train_loss, valid_loss, elapsed_time))\n",
        "\n",
        "\n",
        "# tracer les courbes de progression train/valid\n",
        "plt.semilogy(train_losses)\n",
        "plt.semilogy(valid_losses)\n",
        "plt.legend(['train loss', 'valid loss'])\n",
        "plt.xlabel(\"epochs\")"
      ],
      "metadata": {
        "id": "y6MhXbh03yQd"
      },
      "execution_count": null,
      "outputs": []
    },
    {
      "cell_type": "code",
      "source": [
        "#%% tester le modèle sur les données de test\n",
        "\n",
        "dataiter = iter(test_loader)\n",
        "batch_images, batch_labels = next(dataiter)\n",
        "outputs = model(batch_images.to(device))\n",
        "_, predicted = torch.max(outputs, 1)\n",
        "\n",
        "# print 5 images\n",
        "for i in range(5):\n",
        "  image, label = batch_images[i], batch_labels[i]\n",
        "  truth = classes[label]\n",
        "  pred = classes[predicted[i]]\n",
        "  title = \"truth : %s pred : %s\" % (truth, pred)\n",
        "  print_image(image, title)\n"
      ],
      "metadata": {
        "id": "mGqOha1mcRxj"
      },
      "execution_count": null,
      "outputs": []
    },
    {
      "cell_type": "code",
      "source": [
        "batch_images.shape"
      ],
      "metadata": {
        "id": "aUcda6WIeko6"
      },
      "execution_count": null,
      "outputs": []
    }
  ]
}
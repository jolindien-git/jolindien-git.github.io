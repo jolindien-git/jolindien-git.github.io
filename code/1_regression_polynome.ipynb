{
  "nbformat": 4,
  "nbformat_minor": 0,
  "metadata": {
    "colab": {
      "provenance": []
    },
    "kernelspec": {
      "name": "python3",
      "display_name": "Python 3"
    },
    "language_info": {
      "name": "python"
    }
  },
  "cells": [
    {
      "cell_type": "code",
      "source": [
        "import numpy as np\n",
        "from matplotlib import pyplot as plt\n",
        "\n",
        "# Générer les données\n",
        "N = 30 # nombre de points\n",
        "x = np.random.uniform(0, 1, size=N)\n",
        "y = np.sin(2 * np.pi * x) + np.random.normal(scale=.1, size=N)\n",
        "\n",
        "# visualiser données\n",
        "plt.plot(x, y, 'o')\n",
        "plt.xlabel('x')\n",
        "plt.ylabel('y')\n",
        "plt.title(f'N={N}')\n",
        "plt.show()\n"
      ],
      "metadata": {
        "id": "CTC8WHC8TqlJ"
      },
      "execution_count": null,
      "outputs": []
    },
    {
      "cell_type": "code",
      "source": [
        "# convertir données (numpy -> pytorch)\n",
        "import torch\n",
        "x, y = torch.tensor(x), torch.tensor(y)\n",
        "\n",
        "# initialise theta\n",
        "M = 3\n",
        "theta = torch.zeros(M + 1, requires_grad = True)\n",
        "\n",
        "# fonction polynome\n",
        "def get_predict(x, coefs):\n",
        "  y_predict = torch.zeros_like(x)\n",
        "  for i in range(len(theta)):\n",
        "    y_predict = y_predict + coefs[i] * x**i\n",
        "  return y_predict\n",
        "\n",
        "# fonction coût\n",
        "def get_loss(y_predict):\n",
        "  return ((y_predict - y)**2).mean()"
      ],
      "metadata": {
        "id": "DTDG_cc0WwQ1"
      },
      "execution_count": null,
      "outputs": []
    },
    {
      "cell_type": "code",
      "source": [
        "# descente de gradient\n",
        "lr = .5 # learning rate\n",
        "EPOCHS = M * 10000 # nombre d'iterations\n",
        "for k in range(EPOCHS + 1):\n",
        "  loss = get_loss(get_predict(x, theta))\n",
        "  if k % 1000 == 0:\n",
        "    print(\"k=%i \\t L(x, theta)=%.3e \\t lr=%.3e\" % (k, loss.item(), lr))\n",
        "  grad = torch.autograd.grad(loss, theta)[0]\n",
        "  theta = theta - lr * grad # mise à jour de theta\n",
        "  if k == EPOCHS - EPOCHS // 10:\n",
        "      lr /= 10"
      ],
      "metadata": {
        "id": "Zf4tcrc4xLRk"
      },
      "execution_count": null,
      "outputs": []
    },
    {
      "cell_type": "code",
      "source": [
        "# visualiser résultat\n",
        "def print_polynome(coefs):\n",
        "    poly_str = ' + '.join([\"%.3f x^%i\" % (v, i) for i, v in enumerate(coefs)])\n",
        "    print(\"polynome:\", poly_str)\n",
        "\n",
        "print_polynome(theta)\n",
        "\n",
        "plt.plot(x, y, 'o') # données\n",
        "x_predict = np.linspace(0, 1, num=200)\n",
        "y_predict = get_predict(torch.tensor(x_predict), theta.detach())\n",
        "plt.plot(x_predict, y_predict) # predictions\n",
        "plt.title('M = %i' % M)\n",
        "plt.legend(['données', 'polynome'])\n"
      ],
      "metadata": {
        "id": "bJkcOdicUj_3"
      },
      "execution_count": null,
      "outputs": []
    }
  ]
}